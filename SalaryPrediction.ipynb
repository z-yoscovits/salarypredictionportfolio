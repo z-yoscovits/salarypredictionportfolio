{
 "cells": [
  {
   "cell_type": "markdown",
   "metadata": {},
   "source": [
    "# Salary Predictions Based on Job Descriptions"
   ]
  },
  {
   "cell_type": "markdown",
   "metadata": {},
   "source": [
    "# Part 1 - DEFINE"
   ]
  },
  {
   "cell_type": "markdown",
   "metadata": {},
   "source": [
    "### ---- 1 Define the problem ----"
   ]
  },
  {
   "cell_type": "markdown",
   "metadata": {},
   "source": [
    "The problem is to use HR data about 1 million job salaries and information about the jobs to predict salary. This prediction can be used to ensure future job offers have a salary that is competitive with the market."
   ]
  },
  {
   "cell_type": "code",
   "execution_count": 76,
   "metadata": {},
   "outputs": [],
   "source": [
    "#import libraries\n",
    "import numpy as np\n",
    "import pandas as pd\n",
    "import sklearn as sk\n",
    "from sklearn.preprocessing import StandardScaler\n",
    "from sklearn.model_selection import train_test_split, GridSearchCV, cross_val_score, RandomizedSearchCV, cross_validate, train_test_split\n",
    "%matplotlib inline\n",
    "import matplotlib as mpl\n",
    "import matplotlib.pyplot as plt\n",
    "import seaborn as sns\n",
    "from sklearn.ensemble import RandomForestRegressor, GradientBoostingRegressor\n",
    "from sklearn.svm import SVR \n",
    "import time\n",
    "from scitime import Estimator\n",
    "from sklearn.base import BaseEstimator, TransformerMixin\n",
    "from sklearn.compose import ColumnTransformer\n",
    "from sklearn.pipeline import Pipeline\n",
    "from sklearn.utils import shuffle\n",
    "from joblib import dump, load\n",
    "\n",
    "\n",
    "\n",
    "__author__ = \"Zachary Yoscovits\"\n",
    "__email__ = \"Zachary.yoscovits@gmail.com\""
   ]
  },
  {
   "cell_type": "markdown",
   "metadata": {},
   "source": [
    "## Part 2 - DISCOVER"
   ]
  },
  {
   "cell_type": "markdown",
   "metadata": {},
   "source": [
    "### ---- 2 Load the data ----"
   ]
  },
  {
   "cell_type": "code",
   "execution_count": 2,
   "metadata": {},
   "outputs": [],
   "source": [
    "#load the data\n",
    "train_features = pd.read_csv(\"data/train_features.csv\", index_col = 'jobId')\n",
    "train_salaries = pd.read_csv(\"data/train_salaries.csv\", index_col = 'jobId')\n",
    "\n",
    "\n"
   ]
  },
  {
   "cell_type": "markdown",
   "metadata": {},
   "source": [
    "### ---- 3 Clean the data ----"
   ]
  },
  {
   "cell_type": "code",
   "execution_count": 3,
   "metadata": {
    "scrolled": true
   },
   "outputs": [
    {
     "name": "stdout",
     "output_type": "stream",
     "text": [
      "<class 'pandas.core.frame.DataFrame'>\n",
      "Index: 1000000 entries, JOB1362684407687 to JOB1362685407686\n",
      "Data columns (total 7 columns):\n",
      "companyId              1000000 non-null object\n",
      "jobType                1000000 non-null object\n",
      "degree                 1000000 non-null object\n",
      "major                  1000000 non-null object\n",
      "industry               1000000 non-null object\n",
      "yearsExperience        1000000 non-null int64\n",
      "milesFromMetropolis    1000000 non-null int64\n",
      "dtypes: int64(2), object(5)\n",
      "memory usage: 61.0+ MB\n",
      "\n",
      "<class 'pandas.core.frame.DataFrame'>\n",
      "Index: 1000000 entries, JOB1362684407687 to JOB1362685407686\n",
      "Data columns (total 1 columns):\n",
      "salary    1000000 non-null int64\n",
      "dtypes: int64(1)\n",
      "memory usage: 15.3+ MB\n",
      "\n",
      "True\n",
      "\n",
      "True\n"
     ]
    }
   ],
   "source": [
    "#Look for Missing Data\n",
    "train_features.info()\n",
    "print()\n",
    "train_salaries.info()\n",
    "print()\n",
    "print(train_features.index.is_unique)\n",
    "print()\n",
    "print(train_salaries.index.is_unique)\n",
    "\n"
   ]
  },
  {
   "cell_type": "markdown",
   "metadata": {},
   "source": [
    "No Null Values in either data set, and no duplicate jobId's in either dataset"
   ]
  },
  {
   "cell_type": "code",
   "execution_count": 4,
   "metadata": {},
   "outputs": [
    {
     "name": "stdout",
     "output_type": "stream",
     "text": [
      "companyId : ['COMP37' 'COMP19' 'COMP52' 'COMP38' 'COMP7' 'COMP15' 'COMP24' 'COMP20'\n",
      " 'COMP41' 'COMP56' 'COMP4' 'COMP54' 'COMP57' 'COMP14' 'COMP61' 'COMP58'\n",
      " 'COMP3' 'COMP44' 'COMP30' 'COMP27' 'COMP34' 'COMP11' 'COMP31' 'COMP49'\n",
      " 'COMP0' 'COMP1' 'COMP36' 'COMP47' 'COMP8' 'COMP42' 'COMP50' 'COMP53'\n",
      " 'COMP48' 'COMP45' 'COMP46' 'COMP2' 'COMP5' 'COMP55' 'COMP29' 'COMP40'\n",
      " 'COMP33' 'COMP22' 'COMP12' 'COMP25' 'COMP6' 'COMP23' 'COMP17' 'COMP28'\n",
      " 'COMP21' 'COMP26' 'COMP43' 'COMP51' 'COMP10' 'COMP59' 'COMP13' 'COMP39'\n",
      " 'COMP16' 'COMP9' 'COMP32' 'COMP62' 'COMP35' 'COMP18' 'COMP60']\n",
      "jobType : ['CFO' 'CEO' 'VICE_PRESIDENT' 'MANAGER' 'JUNIOR' 'JANITOR' 'CTO' 'SENIOR']\n",
      "degree : ['MASTERS' 'HIGH_SCHOOL' 'DOCTORAL' 'BACHELORS' 'NONE']\n",
      "major : ['MATH' 'NONE' 'PHYSICS' 'CHEMISTRY' 'COMPSCI' 'BIOLOGY' 'LITERATURE'\n",
      " 'BUSINESS' 'ENGINEERING']\n",
      "industry : ['HEALTH' 'WEB' 'AUTO' 'FINANCE' 'EDUCATION' 'OIL' 'SERVICE']\n"
     ]
    }
   ],
   "source": [
    "categorical_cols = train_features.columns[:5]\n",
    "for item in categorical_cols:\n",
    "    print(item, ':', train_features[item].unique())"
   ]
  },
  {
   "cell_type": "code",
   "execution_count": 5,
   "metadata": {},
   "outputs": [
    {
     "data": {
      "image/png": "[encoded data removed]",
      "text/plain": [
       "<Figure size 1008x432 with 2 Axes>"
      ]
     },
     "metadata": {
      "needs_background": "light"
     },
     "output_type": "display_data"
    }
   ],
   "source": [
    "#Take a look at the salary distribution\n",
    "plt.figure(figsize = (14, 6))\n",
    "plt.subplot(1,2,1)\n",
    "sns.boxplot(train_salaries.salary)\n",
    "plt.subplot(1,2,2)\n",
    "sns.distplot(train_salaries.salary)\n",
    "plt.show()"
   ]
  },
  {
   "cell_type": "code",
   "execution_count": 6,
   "metadata": {},
   "outputs": [
    {
     "data": {
      "text/html": [
       "<div>\n",
       "<style scoped>\n",
       "    .dataframe tbody tr th:only-of-type {\n",
       "        vertical-align: middle;\n",
       "    }\n",
       "\n",
       "    .dataframe tbody tr th {\n",
       "        vertical-align: top;\n",
       "    }\n",
       "\n",
       "    .dataframe thead th {\n",
       "        text-align: right;\n",
       "    }\n",
       "</style>\n",
       "<table border=\"1\" class=\"dataframe\">\n",
       "  <thead>\n",
       "    <tr style=\"text-align: right;\">\n",
       "      <th></th>\n",
       "      <th>companyId</th>\n",
       "      <th>jobType</th>\n",
       "      <th>degree</th>\n",
       "      <th>major</th>\n",
       "      <th>industry</th>\n",
       "      <th>yearsExperience</th>\n",
       "      <th>milesFromMetropolis</th>\n",
       "      <th>salary</th>\n",
       "    </tr>\n",
       "    <tr>\n",
       "      <th>jobId</th>\n",
       "      <th></th>\n",
       "      <th></th>\n",
       "      <th></th>\n",
       "      <th></th>\n",
       "      <th></th>\n",
       "      <th></th>\n",
       "      <th></th>\n",
       "      <th></th>\n",
       "    </tr>\n",
       "  </thead>\n",
       "  <tbody>\n",
       "    <tr>\n",
       "      <th>JOB1362684407687</th>\n",
       "      <td>COMP37</td>\n",
       "      <td>CFO</td>\n",
       "      <td>MASTERS</td>\n",
       "      <td>MATH</td>\n",
       "      <td>HEALTH</td>\n",
       "      <td>10</td>\n",
       "      <td>83</td>\n",
       "      <td>130</td>\n",
       "    </tr>\n",
       "    <tr>\n",
       "      <th>JOB1362684407688</th>\n",
       "      <td>COMP19</td>\n",
       "      <td>CEO</td>\n",
       "      <td>HIGH_SCHOOL</td>\n",
       "      <td>NONE</td>\n",
       "      <td>WEB</td>\n",
       "      <td>3</td>\n",
       "      <td>73</td>\n",
       "      <td>101</td>\n",
       "    </tr>\n",
       "    <tr>\n",
       "      <th>JOB1362684407689</th>\n",
       "      <td>COMP52</td>\n",
       "      <td>VICE_PRESIDENT</td>\n",
       "      <td>DOCTORAL</td>\n",
       "      <td>PHYSICS</td>\n",
       "      <td>HEALTH</td>\n",
       "      <td>10</td>\n",
       "      <td>38</td>\n",
       "      <td>137</td>\n",
       "    </tr>\n",
       "    <tr>\n",
       "      <th>JOB1362684407690</th>\n",
       "      <td>COMP38</td>\n",
       "      <td>MANAGER</td>\n",
       "      <td>DOCTORAL</td>\n",
       "      <td>CHEMISTRY</td>\n",
       "      <td>AUTO</td>\n",
       "      <td>8</td>\n",
       "      <td>17</td>\n",
       "      <td>142</td>\n",
       "    </tr>\n",
       "    <tr>\n",
       "      <th>JOB1362684407691</th>\n",
       "      <td>COMP7</td>\n",
       "      <td>VICE_PRESIDENT</td>\n",
       "      <td>BACHELORS</td>\n",
       "      <td>PHYSICS</td>\n",
       "      <td>FINANCE</td>\n",
       "      <td>8</td>\n",
       "      <td>16</td>\n",
       "      <td>163</td>\n",
       "    </tr>\n",
       "  </tbody>\n",
       "</table>\n",
       "</div>"
      ],
      "text/plain": [
       "                 companyId         jobType       degree      major industry  \\\n",
       "jobId                                                                         \n",
       "JOB1362684407687    COMP37             CFO      MASTERS       MATH   HEALTH   \n",
       "JOB1362684407688    COMP19             CEO  HIGH_SCHOOL       NONE      WEB   \n",
       "JOB1362684407689    COMP52  VICE_PRESIDENT     DOCTORAL    PHYSICS   HEALTH   \n",
       "JOB1362684407690    COMP38         MANAGER     DOCTORAL  CHEMISTRY     AUTO   \n",
       "JOB1362684407691     COMP7  VICE_PRESIDENT    BACHELORS    PHYSICS  FINANCE   \n",
       "\n",
       "                  yearsExperience  milesFromMetropolis  salary  \n",
       "jobId                                                           \n",
       "JOB1362684407687               10                   83     130  \n",
       "JOB1362684407688                3                   73     101  \n",
       "JOB1362684407689               10                   38     137  \n",
       "JOB1362684407690                8                   17     142  \n",
       "JOB1362684407691                8                   16     163  "
      ]
     },
     "execution_count": 6,
     "metadata": {},
     "output_type": "execute_result"
    }
   ],
   "source": [
    "#Merge\n",
    "train_df = pd.merge(train_features, train_salaries, on='jobId')\n",
    "train_df.head()"
   ]
  },
  {
   "cell_type": "code",
   "execution_count": 7,
   "metadata": {},
   "outputs": [
    {
     "name": "stdout",
     "output_type": "stream",
     "text": [
      "Upper limit is 220.5\n",
      "Lower limit is 8.5\n"
     ]
    }
   ],
   "source": [
    "#look for outliers using IQR rule\n",
    "salary_stats = train_df.salary.describe()\n",
    "IQR = salary_stats['75%'] - salary_stats['25%']\n",
    "upper_limit = salary_stats['75%'] + 1.5* IQR\n",
    "lower_limit = salary_stats['25%'] - 1.5* IQR\n",
    "print('Upper limit is', upper_limit)\n",
    "print('Lower limit is', lower_limit)\n"
   ]
  },
  {
   "cell_type": "code",
   "execution_count": 8,
   "metadata": {},
   "outputs": [
    {
     "data": {
      "text/plain": [
       "CEO               3227\n",
       "CFO               1496\n",
       "CTO               1488\n",
       "VICE_PRESIDENT     603\n",
       "MANAGER            217\n",
       "SENIOR              66\n",
       "JUNIOR              20\n",
       "Name: jobType, dtype: int64"
      ]
     },
     "execution_count": 8,
     "metadata": {},
     "output_type": "execute_result"
    }
   ],
   "source": [
    "#look at upper outliers\n",
    "train_df.jobType[train_df.salary > upper_limit].value_counts()"
   ]
  },
  {
   "cell_type": "markdown",
   "metadata": {},
   "source": [
    "Higher level employees could make this much, but the junior level employees making this much seems suspicious"
   ]
  },
  {
   "cell_type": "code",
   "execution_count": 9,
   "metadata": {},
   "outputs": [
    {
     "data": {
      "text/html": [
       "<div>\n",
       "<style scoped>\n",
       "    .dataframe tbody tr th:only-of-type {\n",
       "        vertical-align: middle;\n",
       "    }\n",
       "\n",
       "    .dataframe tbody tr th {\n",
       "        vertical-align: top;\n",
       "    }\n",
       "\n",
       "    .dataframe thead th {\n",
       "        text-align: right;\n",
       "    }\n",
       "</style>\n",
       "<table border=\"1\" class=\"dataframe\">\n",
       "  <thead>\n",
       "    <tr style=\"text-align: right;\">\n",
       "      <th></th>\n",
       "      <th>companyId</th>\n",
       "      <th>jobType</th>\n",
       "      <th>degree</th>\n",
       "      <th>major</th>\n",
       "      <th>industry</th>\n",
       "      <th>yearsExperience</th>\n",
       "      <th>milesFromMetropolis</th>\n",
       "      <th>salary</th>\n",
       "    </tr>\n",
       "    <tr>\n",
       "      <th>jobId</th>\n",
       "      <th></th>\n",
       "      <th></th>\n",
       "      <th></th>\n",
       "      <th></th>\n",
       "      <th></th>\n",
       "      <th></th>\n",
       "      <th></th>\n",
       "      <th></th>\n",
       "    </tr>\n",
       "  </thead>\n",
       "  <tbody>\n",
       "    <tr>\n",
       "      <th>JOB1362684408909</th>\n",
       "      <td>COMP40</td>\n",
       "      <td>JUNIOR</td>\n",
       "      <td>MASTERS</td>\n",
       "      <td>COMPSCI</td>\n",
       "      <td>OIL</td>\n",
       "      <td>24</td>\n",
       "      <td>5</td>\n",
       "      <td>225</td>\n",
       "    </tr>\n",
       "    <tr>\n",
       "      <th>JOB1362684435397</th>\n",
       "      <td>COMP21</td>\n",
       "      <td>JUNIOR</td>\n",
       "      <td>DOCTORAL</td>\n",
       "      <td>ENGINEERING</td>\n",
       "      <td>OIL</td>\n",
       "      <td>24</td>\n",
       "      <td>3</td>\n",
       "      <td>246</td>\n",
       "    </tr>\n",
       "    <tr>\n",
       "      <th>JOB1362684439042</th>\n",
       "      <td>COMP45</td>\n",
       "      <td>JUNIOR</td>\n",
       "      <td>DOCTORAL</td>\n",
       "      <td>COMPSCI</td>\n",
       "      <td>FINANCE</td>\n",
       "      <td>24</td>\n",
       "      <td>0</td>\n",
       "      <td>225</td>\n",
       "    </tr>\n",
       "    <tr>\n",
       "      <th>JOB1362684507729</th>\n",
       "      <td>COMP17</td>\n",
       "      <td>JUNIOR</td>\n",
       "      <td>DOCTORAL</td>\n",
       "      <td>BUSINESS</td>\n",
       "      <td>FINANCE</td>\n",
       "      <td>23</td>\n",
       "      <td>8</td>\n",
       "      <td>248</td>\n",
       "    </tr>\n",
       "    <tr>\n",
       "      <th>JOB1362684568020</th>\n",
       "      <td>COMP18</td>\n",
       "      <td>JUNIOR</td>\n",
       "      <td>DOCTORAL</td>\n",
       "      <td>BUSINESS</td>\n",
       "      <td>FINANCE</td>\n",
       "      <td>22</td>\n",
       "      <td>3</td>\n",
       "      <td>223</td>\n",
       "    </tr>\n",
       "    <tr>\n",
       "      <th>JOB1362684597269</th>\n",
       "      <td>COMP32</td>\n",
       "      <td>JUNIOR</td>\n",
       "      <td>DOCTORAL</td>\n",
       "      <td>BUSINESS</td>\n",
       "      <td>OIL</td>\n",
       "      <td>24</td>\n",
       "      <td>11</td>\n",
       "      <td>221</td>\n",
       "    </tr>\n",
       "    <tr>\n",
       "      <th>JOB1362684622293</th>\n",
       "      <td>COMP47</td>\n",
       "      <td>JUNIOR</td>\n",
       "      <td>MASTERS</td>\n",
       "      <td>BUSINESS</td>\n",
       "      <td>FINANCE</td>\n",
       "      <td>22</td>\n",
       "      <td>4</td>\n",
       "      <td>222</td>\n",
       "    </tr>\n",
       "    <tr>\n",
       "      <th>JOB1362684711465</th>\n",
       "      <td>COMP51</td>\n",
       "      <td>JUNIOR</td>\n",
       "      <td>MASTERS</td>\n",
       "      <td>ENGINEERING</td>\n",
       "      <td>WEB</td>\n",
       "      <td>24</td>\n",
       "      <td>2</td>\n",
       "      <td>226</td>\n",
       "    </tr>\n",
       "    <tr>\n",
       "      <th>JOB1362684756041</th>\n",
       "      <td>COMP56</td>\n",
       "      <td>JUNIOR</td>\n",
       "      <td>DOCTORAL</td>\n",
       "      <td>ENGINEERING</td>\n",
       "      <td>OIL</td>\n",
       "      <td>23</td>\n",
       "      <td>25</td>\n",
       "      <td>226</td>\n",
       "    </tr>\n",
       "    <tr>\n",
       "      <th>JOB1362684835280</th>\n",
       "      <td>COMP54</td>\n",
       "      <td>JUNIOR</td>\n",
       "      <td>DOCTORAL</td>\n",
       "      <td>ENGINEERING</td>\n",
       "      <td>FINANCE</td>\n",
       "      <td>23</td>\n",
       "      <td>3</td>\n",
       "      <td>221</td>\n",
       "    </tr>\n",
       "    <tr>\n",
       "      <th>JOB1362684908426</th>\n",
       "      <td>COMP40</td>\n",
       "      <td>JUNIOR</td>\n",
       "      <td>DOCTORAL</td>\n",
       "      <td>ENGINEERING</td>\n",
       "      <td>OIL</td>\n",
       "      <td>21</td>\n",
       "      <td>0</td>\n",
       "      <td>227</td>\n",
       "    </tr>\n",
       "    <tr>\n",
       "      <th>JOB1362685035221</th>\n",
       "      <td>COMP5</td>\n",
       "      <td>JUNIOR</td>\n",
       "      <td>DOCTORAL</td>\n",
       "      <td>ENGINEERING</td>\n",
       "      <td>OIL</td>\n",
       "      <td>24</td>\n",
       "      <td>29</td>\n",
       "      <td>230</td>\n",
       "    </tr>\n",
       "    <tr>\n",
       "      <th>JOB1362685053242</th>\n",
       "      <td>COMP36</td>\n",
       "      <td>JUNIOR</td>\n",
       "      <td>DOCTORAL</td>\n",
       "      <td>BUSINESS</td>\n",
       "      <td>FINANCE</td>\n",
       "      <td>24</td>\n",
       "      <td>1</td>\n",
       "      <td>225</td>\n",
       "    </tr>\n",
       "    <tr>\n",
       "      <th>JOB1362685064259</th>\n",
       "      <td>COMP28</td>\n",
       "      <td>JUNIOR</td>\n",
       "      <td>DOCTORAL</td>\n",
       "      <td>BUSINESS</td>\n",
       "      <td>OIL</td>\n",
       "      <td>22</td>\n",
       "      <td>3</td>\n",
       "      <td>222</td>\n",
       "    </tr>\n",
       "    <tr>\n",
       "      <th>JOB1362685093462</th>\n",
       "      <td>COMP38</td>\n",
       "      <td>JUNIOR</td>\n",
       "      <td>BACHELORS</td>\n",
       "      <td>ENGINEERING</td>\n",
       "      <td>OIL</td>\n",
       "      <td>24</td>\n",
       "      <td>13</td>\n",
       "      <td>225</td>\n",
       "    </tr>\n",
       "    <tr>\n",
       "      <th>JOB1362685151013</th>\n",
       "      <td>COMP14</td>\n",
       "      <td>JUNIOR</td>\n",
       "      <td>DOCTORAL</td>\n",
       "      <td>BUSINESS</td>\n",
       "      <td>FINANCE</td>\n",
       "      <td>19</td>\n",
       "      <td>0</td>\n",
       "      <td>236</td>\n",
       "    </tr>\n",
       "    <tr>\n",
       "      <th>JOB1362685195361</th>\n",
       "      <td>COMP43</td>\n",
       "      <td>JUNIOR</td>\n",
       "      <td>DOCTORAL</td>\n",
       "      <td>BUSINESS</td>\n",
       "      <td>FINANCE</td>\n",
       "      <td>18</td>\n",
       "      <td>15</td>\n",
       "      <td>232</td>\n",
       "    </tr>\n",
       "    <tr>\n",
       "      <th>JOB1362685204643</th>\n",
       "      <td>COMP30</td>\n",
       "      <td>JUNIOR</td>\n",
       "      <td>MASTERS</td>\n",
       "      <td>BUSINESS</td>\n",
       "      <td>OIL</td>\n",
       "      <td>24</td>\n",
       "      <td>2</td>\n",
       "      <td>228</td>\n",
       "    </tr>\n",
       "    <tr>\n",
       "      <th>JOB1362685262906</th>\n",
       "      <td>COMP13</td>\n",
       "      <td>JUNIOR</td>\n",
       "      <td>MASTERS</td>\n",
       "      <td>ENGINEERING</td>\n",
       "      <td>OIL</td>\n",
       "      <td>22</td>\n",
       "      <td>26</td>\n",
       "      <td>225</td>\n",
       "    </tr>\n",
       "    <tr>\n",
       "      <th>JOB1362685362055</th>\n",
       "      <td>COMP11</td>\n",
       "      <td>JUNIOR</td>\n",
       "      <td>DOCTORAL</td>\n",
       "      <td>BUSINESS</td>\n",
       "      <td>OIL</td>\n",
       "      <td>24</td>\n",
       "      <td>26</td>\n",
       "      <td>223</td>\n",
       "    </tr>\n",
       "  </tbody>\n",
       "</table>\n",
       "</div>"
      ],
      "text/plain": [
       "                 companyId jobType     degree        major industry  \\\n",
       "jobId                                                                 \n",
       "JOB1362684408909    COMP40  JUNIOR    MASTERS      COMPSCI      OIL   \n",
       "JOB1362684435397    COMP21  JUNIOR   DOCTORAL  ENGINEERING      OIL   \n",
       "JOB1362684439042    COMP45  JUNIOR   DOCTORAL      COMPSCI  FINANCE   \n",
       "JOB1362684507729    COMP17  JUNIOR   DOCTORAL     BUSINESS  FINANCE   \n",
       "JOB1362684568020    COMP18  JUNIOR   DOCTORAL     BUSINESS  FINANCE   \n",
       "JOB1362684597269    COMP32  JUNIOR   DOCTORAL     BUSINESS      OIL   \n",
       "JOB1362684622293    COMP47  JUNIOR    MASTERS     BUSINESS  FINANCE   \n",
       "JOB1362684711465    COMP51  JUNIOR    MASTERS  ENGINEERING      WEB   \n",
       "JOB1362684756041    COMP56  JUNIOR   DOCTORAL  ENGINEERING      OIL   \n",
       "JOB1362684835280    COMP54  JUNIOR   DOCTORAL  ENGINEERING  FINANCE   \n",
       "JOB1362684908426    COMP40  JUNIOR   DOCTORAL  ENGINEERING      OIL   \n",
       "JOB1362685035221     COMP5  JUNIOR   DOCTORAL  ENGINEERING      OIL   \n",
       "JOB1362685053242    COMP36  JUNIOR   DOCTORAL     BUSINESS  FINANCE   \n",
       "JOB1362685064259    COMP28  JUNIOR   DOCTORAL     BUSINESS      OIL   \n",
       "JOB1362685093462    COMP38  JUNIOR  BACHELORS  ENGINEERING      OIL   \n",
       "JOB1362685151013    COMP14  JUNIOR   DOCTORAL     BUSINESS  FINANCE   \n",
       "JOB1362685195361    COMP43  JUNIOR   DOCTORAL     BUSINESS  FINANCE   \n",
       "JOB1362685204643    COMP30  JUNIOR    MASTERS     BUSINESS      OIL   \n",
       "JOB1362685262906    COMP13  JUNIOR    MASTERS  ENGINEERING      OIL   \n",
       "JOB1362685362055    COMP11  JUNIOR   DOCTORAL     BUSINESS      OIL   \n",
       "\n",
       "                  yearsExperience  milesFromMetropolis  salary  \n",
       "jobId                                                           \n",
       "JOB1362684408909               24                    5     225  \n",
       "JOB1362684435397               24                    3     246  \n",
       "JOB1362684439042               24                    0     225  \n",
       "JOB1362684507729               23                    8     248  \n",
       "JOB1362684568020               22                    3     223  \n",
       "JOB1362684597269               24                   11     221  \n",
       "JOB1362684622293               22                    4     222  \n",
       "JOB1362684711465               24                    2     226  \n",
       "JOB1362684756041               23                   25     226  \n",
       "JOB1362684835280               23                    3     221  \n",
       "JOB1362684908426               21                    0     227  \n",
       "JOB1362685035221               24                   29     230  \n",
       "JOB1362685053242               24                    1     225  \n",
       "JOB1362685064259               22                    3     222  \n",
       "JOB1362685093462               24                   13     225  \n",
       "JOB1362685151013               19                    0     236  \n",
       "JOB1362685195361               18                   15     232  \n",
       "JOB1362685204643               24                    2     228  \n",
       "JOB1362685262906               22                   26     225  \n",
       "JOB1362685362055               24                   26     223  "
      ]
     },
     "execution_count": 9,
     "metadata": {},
     "output_type": "execute_result"
    }
   ],
   "source": [
    "#Check out the junior level employees\n",
    "train_df[(train_df.salary > upper_limit) & (train_df.jobType == \"JUNIOR\")]"
   ]
  },
  {
   "cell_type": "markdown",
   "metadata": {},
   "source": [
    "Many of these have advanced degrees, and they tend to be in Oil and Finance which are lucrative, so these seem to be real"
   ]
  },
  {
   "cell_type": "code",
   "execution_count": 10,
   "metadata": {},
   "outputs": [
    {
     "data": {
      "text/html": [
       "<div>\n",
       "<style scoped>\n",
       "    .dataframe tbody tr th:only-of-type {\n",
       "        vertical-align: middle;\n",
       "    }\n",
       "\n",
       "    .dataframe tbody tr th {\n",
       "        vertical-align: top;\n",
       "    }\n",
       "\n",
       "    .dataframe thead th {\n",
       "        text-align: right;\n",
       "    }\n",
       "</style>\n",
       "<table border=\"1\" class=\"dataframe\">\n",
       "  <thead>\n",
       "    <tr style=\"text-align: right;\">\n",
       "      <th></th>\n",
       "      <th>companyId</th>\n",
       "      <th>jobType</th>\n",
       "      <th>degree</th>\n",
       "      <th>major</th>\n",
       "      <th>industry</th>\n",
       "      <th>yearsExperience</th>\n",
       "      <th>milesFromMetropolis</th>\n",
       "      <th>salary</th>\n",
       "    </tr>\n",
       "    <tr>\n",
       "      <th>jobId</th>\n",
       "      <th></th>\n",
       "      <th></th>\n",
       "      <th></th>\n",
       "      <th></th>\n",
       "      <th></th>\n",
       "      <th></th>\n",
       "      <th></th>\n",
       "      <th></th>\n",
       "    </tr>\n",
       "  </thead>\n",
       "  <tbody>\n",
       "    <tr>\n",
       "      <th>JOB1362684438246</th>\n",
       "      <td>COMP44</td>\n",
       "      <td>JUNIOR</td>\n",
       "      <td>DOCTORAL</td>\n",
       "      <td>MATH</td>\n",
       "      <td>AUTO</td>\n",
       "      <td>11</td>\n",
       "      <td>7</td>\n",
       "      <td>0</td>\n",
       "    </tr>\n",
       "    <tr>\n",
       "      <th>JOB1362684903671</th>\n",
       "      <td>COMP34</td>\n",
       "      <td>JUNIOR</td>\n",
       "      <td>NONE</td>\n",
       "      <td>NONE</td>\n",
       "      <td>OIL</td>\n",
       "      <td>1</td>\n",
       "      <td>25</td>\n",
       "      <td>0</td>\n",
       "    </tr>\n",
       "    <tr>\n",
       "      <th>JOB1362685059763</th>\n",
       "      <td>COMP25</td>\n",
       "      <td>CTO</td>\n",
       "      <td>HIGH_SCHOOL</td>\n",
       "      <td>NONE</td>\n",
       "      <td>AUTO</td>\n",
       "      <td>6</td>\n",
       "      <td>60</td>\n",
       "      <td>0</td>\n",
       "    </tr>\n",
       "    <tr>\n",
       "      <th>JOB1362685223816</th>\n",
       "      <td>COMP42</td>\n",
       "      <td>MANAGER</td>\n",
       "      <td>DOCTORAL</td>\n",
       "      <td>ENGINEERING</td>\n",
       "      <td>FINANCE</td>\n",
       "      <td>18</td>\n",
       "      <td>6</td>\n",
       "      <td>0</td>\n",
       "    </tr>\n",
       "    <tr>\n",
       "      <th>JOB1362685235843</th>\n",
       "      <td>COMP40</td>\n",
       "      <td>VICE_PRESIDENT</td>\n",
       "      <td>MASTERS</td>\n",
       "      <td>ENGINEERING</td>\n",
       "      <td>WEB</td>\n",
       "      <td>3</td>\n",
       "      <td>29</td>\n",
       "      <td>0</td>\n",
       "    </tr>\n",
       "  </tbody>\n",
       "</table>\n",
       "</div>"
      ],
      "text/plain": [
       "                 companyId         jobType       degree        major industry  \\\n",
       "jobId                                                                           \n",
       "JOB1362684438246    COMP44          JUNIOR     DOCTORAL         MATH     AUTO   \n",
       "JOB1362684903671    COMP34          JUNIOR         NONE         NONE      OIL   \n",
       "JOB1362685059763    COMP25             CTO  HIGH_SCHOOL         NONE     AUTO   \n",
       "JOB1362685223816    COMP42         MANAGER     DOCTORAL  ENGINEERING  FINANCE   \n",
       "JOB1362685235843    COMP40  VICE_PRESIDENT      MASTERS  ENGINEERING      WEB   \n",
       "\n",
       "                  yearsExperience  milesFromMetropolis  salary  \n",
       "jobId                                                           \n",
       "JOB1362684438246               11                    7       0  \n",
       "JOB1362684903671                1                   25       0  \n",
       "JOB1362685059763                6                   60       0  \n",
       "JOB1362685223816               18                    6       0  \n",
       "JOB1362685235843                3                   29       0  "
      ]
     },
     "execution_count": 10,
     "metadata": {},
     "output_type": "execute_result"
    }
   ],
   "source": [
    "#looking at lower level outliers\n",
    "train_df[train_df.salary < lower_limit]"
   ]
  },
  {
   "cell_type": "markdown",
   "metadata": {},
   "source": [
    "These are all upper level positions and all have a salary of 0; it doesn't make sense that they would be unpaid so I will assume the salary data is missing and remove them from the data set"
   ]
  },
  {
   "cell_type": "code",
   "execution_count": 11,
   "metadata": {},
   "outputs": [],
   "source": [
    "train_df.drop(train_df.index[train_df.salary < lower_limit], inplace = True)"
   ]
  },
  {
   "cell_type": "markdown",
   "metadata": {},
   "source": [
    "### ---- 4 Explore the data (EDA) ----"
   ]
  },
  {
   "cell_type": "code",
   "execution_count": 12,
   "metadata": {},
   "outputs": [],
   "source": [
    "def cat_avg(df, feature, result):\n",
    "    #calculates the average salary for each category in a categorical column and returns a dataframe with this information\n",
    "    cat_df = pd.DataFrame()\n",
    "    cats = df[feature].unique().tolist()\n",
    "    cat_df['category'] = cats\n",
    "    means = []\n",
    "    for cat in cats:\n",
    "        means.append(train_df[train_df[feature] == cat][result].mean())\n",
    "    cat_df['mean'] = means\n",
    "    cat_df.sort_values('mean', inplace = True)\n",
    "    cat_df.reset_index(drop=True, inplace = True)\n",
    "    return cat_df"
   ]
  },
  {
   "cell_type": "code",
   "execution_count": 13,
   "metadata": {},
   "outputs": [
    {
     "data": {
      "text/html": [
       "<div>\n",
       "<style scoped>\n",
       "    .dataframe tbody tr th:only-of-type {\n",
       "        vertical-align: middle;\n",
       "    }\n",
       "\n",
       "    .dataframe tbody tr th {\n",
       "        vertical-align: top;\n",
       "    }\n",
       "\n",
       "    .dataframe thead th {\n",
       "        text-align: right;\n",
       "    }\n",
       "</style>\n",
       "<table border=\"1\" class=\"dataframe\">\n",
       "  <thead>\n",
       "    <tr style=\"text-align: right;\">\n",
       "      <th></th>\n",
       "      <th>yearsExperience</th>\n",
       "      <th>milesFromMetropolis</th>\n",
       "      <th>salary</th>\n",
       "    </tr>\n",
       "  </thead>\n",
       "  <tbody>\n",
       "    <tr>\n",
       "      <th>count</th>\n",
       "      <td>999995.000000</td>\n",
       "      <td>999995.000000</td>\n",
       "      <td>999995.000000</td>\n",
       "    </tr>\n",
       "    <tr>\n",
       "      <th>mean</th>\n",
       "      <td>11.992407</td>\n",
       "      <td>49.529381</td>\n",
       "      <td>116.062398</td>\n",
       "    </tr>\n",
       "    <tr>\n",
       "      <th>std</th>\n",
       "      <td>7.212390</td>\n",
       "      <td>28.877721</td>\n",
       "      <td>38.717163</td>\n",
       "    </tr>\n",
       "    <tr>\n",
       "      <th>min</th>\n",
       "      <td>0.000000</td>\n",
       "      <td>0.000000</td>\n",
       "      <td>17.000000</td>\n",
       "    </tr>\n",
       "    <tr>\n",
       "      <th>25%</th>\n",
       "      <td>6.000000</td>\n",
       "      <td>25.000000</td>\n",
       "      <td>88.000000</td>\n",
       "    </tr>\n",
       "    <tr>\n",
       "      <th>50%</th>\n",
       "      <td>12.000000</td>\n",
       "      <td>50.000000</td>\n",
       "      <td>114.000000</td>\n",
       "    </tr>\n",
       "    <tr>\n",
       "      <th>75%</th>\n",
       "      <td>18.000000</td>\n",
       "      <td>75.000000</td>\n",
       "      <td>141.000000</td>\n",
       "    </tr>\n",
       "    <tr>\n",
       "      <th>max</th>\n",
       "      <td>24.000000</td>\n",
       "      <td>99.000000</td>\n",
       "      <td>301.000000</td>\n",
       "    </tr>\n",
       "  </tbody>\n",
       "</table>\n",
       "</div>"
      ],
      "text/plain": [
       "       yearsExperience  milesFromMetropolis         salary\n",
       "count    999995.000000        999995.000000  999995.000000\n",
       "mean         11.992407            49.529381     116.062398\n",
       "std           7.212390            28.877721      38.717163\n",
       "min           0.000000             0.000000      17.000000\n",
       "25%           6.000000            25.000000      88.000000\n",
       "50%          12.000000            50.000000     114.000000\n",
       "75%          18.000000            75.000000     141.000000\n",
       "max          24.000000            99.000000     301.000000"
      ]
     },
     "execution_count": 13,
     "metadata": {},
     "output_type": "execute_result"
    }
   ],
   "source": [
    "#Take a look at the numerical columns\n",
    "train_df.describe(include = [np.number])"
   ]
  },
  {
   "cell_type": "code",
   "execution_count": 14,
   "metadata": {},
   "outputs": [
    {
     "data": {
      "text/html": [
       "<div>\n",
       "<style scoped>\n",
       "    .dataframe tbody tr th:only-of-type {\n",
       "        vertical-align: middle;\n",
       "    }\n",
       "\n",
       "    .dataframe tbody tr th {\n",
       "        vertical-align: top;\n",
       "    }\n",
       "\n",
       "    .dataframe thead th {\n",
       "        text-align: right;\n",
       "    }\n",
       "</style>\n",
       "<table border=\"1\" class=\"dataframe\">\n",
       "  <thead>\n",
       "    <tr style=\"text-align: right;\">\n",
       "      <th></th>\n",
       "      <th>companyId</th>\n",
       "      <th>jobType</th>\n",
       "      <th>degree</th>\n",
       "      <th>major</th>\n",
       "      <th>industry</th>\n",
       "    </tr>\n",
       "  </thead>\n",
       "  <tbody>\n",
       "    <tr>\n",
       "      <th>count</th>\n",
       "      <td>999995</td>\n",
       "      <td>999995</td>\n",
       "      <td>999995</td>\n",
       "      <td>999995</td>\n",
       "      <td>999995</td>\n",
       "    </tr>\n",
       "    <tr>\n",
       "      <th>unique</th>\n",
       "      <td>63</td>\n",
       "      <td>8</td>\n",
       "      <td>5</td>\n",
       "      <td>9</td>\n",
       "      <td>7</td>\n",
       "    </tr>\n",
       "    <tr>\n",
       "      <th>top</th>\n",
       "      <td>COMP39</td>\n",
       "      <td>SENIOR</td>\n",
       "      <td>HIGH_SCHOOL</td>\n",
       "      <td>NONE</td>\n",
       "      <td>WEB</td>\n",
       "    </tr>\n",
       "    <tr>\n",
       "      <th>freq</th>\n",
       "      <td>16193</td>\n",
       "      <td>125886</td>\n",
       "      <td>236975</td>\n",
       "      <td>532353</td>\n",
       "      <td>143205</td>\n",
       "    </tr>\n",
       "  </tbody>\n",
       "</table>\n",
       "</div>"
      ],
      "text/plain": [
       "       companyId jobType       degree   major industry\n",
       "count     999995  999995       999995  999995   999995\n",
       "unique        63       8            5       9        7\n",
       "top       COMP39  SENIOR  HIGH_SCHOOL    NONE      WEB\n",
       "freq       16193  125886       236975  532353   143205"
      ]
     },
     "execution_count": 14,
     "metadata": {},
     "output_type": "execute_result"
    }
   ],
   "source": [
    "#take a look at the \n",
    "train_df.describe(include = 'O')"
   ]
  },
  {
   "cell_type": "code",
   "execution_count": 15,
   "metadata": {},
   "outputs": [],
   "source": [
    "def count_plot(df, col):\n",
    "    #Plots the distribution of a data column\n",
    "    plt.figure(figsize = (5, 5))\n",
    "    if df[col].dtype == 'int64':\n",
    "        sns.distplot(df[col], bins = 5)\n",
    "    else:\n",
    "        sns.catplot(x = col, kind = \"count\",  data = df, order = cat_avg(df, col, \"salary\")['category'] )\n",
    "        plt.xticks(rotation=45)\n",
    "        \n",
    "\n",
    "    \n",
    "        \n"
   ]
  },
  {
   "cell_type": "code",
   "execution_count": 16,
   "metadata": {},
   "outputs": [],
   "source": [
    "def mean_plot(df, col):\n",
    "    if df[col].dtype == 'int64':\n",
    "        #plot the mean salary for each category and fill between the (mean - std, mean + std)\n",
    "        mean = df.groupby(col)['salary'].mean()\n",
    "        std = df.groupby(col)['salary'].std()\n",
    "        mean.plot()\n",
    "        plt.fill_between(range(len(std.index)), mean.values-std.values, mean.values + std.values, \\\n",
    "                         alpha = 0.1)\n",
    "    else:\n",
    "        sns.boxplot(x = col, y = 'salary', data=df, order = cat_avg(df, col, 'salary')['category'])\n",
    "        plt.xticks(rotation=45)\n",
    "    "
   ]
  },
  {
   "cell_type": "code",
   "execution_count": 17,
   "metadata": {},
   "outputs": [
    {
     "data": {
      "text/plain": [
       "<Figure size 360x360 with 0 Axes>"
      ]
     },
     "metadata": {},
     "output_type": "display_data"
    },
    {
     "data": {
      "image/png": "[encoded data removed]",
      "text/plain": [
       "<Figure size 360x360 with 1 Axes>"
      ]
     },
     "metadata": {
      "needs_background": "light"
     },
     "output_type": "display_data"
    },
    {
     "data": {
      "text/plain": [
       "<Figure size 360x360 with 0 Axes>"
      ]
     },
     "metadata": {},
     "output_type": "display_data"
    },
    {
     "data": {
      "image/png": "[encoded data removed]",
      "text/plain": [
       "<Figure size 360x360 with 1 Axes>"
      ]
     },
     "metadata": {
      "needs_background": "light"
     },
     "output_type": "display_data"
    },
    {
     "data": {
      "text/plain": [
       "<Figure size 360x360 with 0 Axes>"
      ]
     },
     "metadata": {},
     "output_type": "display_data"
    },
    {
     "data": {
      "image/png": "[encoded data removed]",
      "text/plain": [
       "<Figure size 360x360 with 1 Axes>"
      ]
     },
     "metadata": {
      "needs_background": "light"
     },
     "output_type": "display_data"
    },
    {
     "data": {
      "text/plain": [
       "<Figure size 360x360 with 0 Axes>"
      ]
     },
     "metadata": {},
     "output_type": "display_data"
    },
    {
     "data": {
      "image/png": "[encoded data removed]",
      "text/plain": [
       "<Figure size 360x360 with 1 Axes>"
      ]
     },
     "metadata": {
      "needs_background": "light"
     },
     "output_type": "display_data"
    },
    {
     "data": {
      "text/plain": [
       "<Figure size 360x360 with 0 Axes>"
      ]
     },
     "metadata": {},
     "output_type": "display_data"
    },
    {
     "data": {
      "image/png": "[encoded data removed]",
      "text/plain": [
       "<Figure size 360x360 with 1 Axes>"
      ]
     },
     "metadata": {
      "needs_background": "light"
     },
     "output_type": "display_data"
    },
    {
     "data": {
      "image/png": "[encoded data removed]",
      "text/plain": [
       "<Figure size 360x360 with 1 Axes>"
      ]
     },
     "metadata": {
      "needs_background": "light"
     },
     "output_type": "display_data"
    },
    {
     "data": {
      "image/png": "[encoded data removed]",
      "text/plain": [
       "<Figure size 360x360 with 1 Axes>"
      ]
     },
     "metadata": {
      "needs_background": "light"
     },
     "output_type": "display_data"
    },
    {
     "data": {
      "image/png": "[encoded data removed]",
      "text/plain": [
       "<Figure size 360x360 with 1 Axes>"
      ]
     },
     "metadata": {
      "needs_background": "light"
     },
     "output_type": "display_data"
    }
   ],
   "source": [
    "#plot the distribution of all columns\n",
    "i = 1\n",
    "for col in train_df.columns:\n",
    "    count_plot(train_df, col)\n",
    "    i+= 1\n",
    "    plt.show()"
   ]
  },
  {
   "cell_type": "code",
   "execution_count": 18,
   "metadata": {},
   "outputs": [
    {
     "data": {
      "image/png": "[encoded data removed]",
      "text/plain": [
       "<Figure size 432x288 with 1 Axes>"
      ]
     },
     "metadata": {
      "needs_background": "light"
     },
     "output_type": "display_data"
    },
    {
     "data": {
      "image/png": "[encoded data removed]",
      "text/plain": [
       "<Figure size 432x288 with 1 Axes>"
      ]
     },
     "metadata": {
      "needs_background": "light"
     },
     "output_type": "display_data"
    },
    {
     "data": {
      "image/png": "[encoded data removed]",
      "text/plain": [
       "<Figure size 432x288 with 1 Axes>"
      ]
     },
     "metadata": {
      "needs_background": "light"
     },
     "output_type": "display_data"
    },
    {
     "data": {
      "image/png": "[encoded data removed]",
      "text/plain": [
       "<Figure size 432x288 with 1 Axes>"
      ]
     },
     "metadata": {
      "needs_background": "light"
     },
     "output_type": "display_data"
    },
    {
     "data": {
      "image/png": "[encoded data removed]",
      "text/plain": [
       "<Figure size 432x288 with 1 Axes>"
      ]
     },
     "metadata": {
      "needs_background": "light"
     },
     "output_type": "display_data"
    },
    {
     "data": {
      "image/png": "[encoded data removed]",
      "text/plain": [
       "<Figure size 432x288 with 1 Axes>"
      ]
     },
     "metadata": {
      "needs_background": "light"
     },
     "output_type": "display_data"
    },
    {
     "data": {
      "image/png": "[encoded data removed]",
      "text/plain": [
       "<Figure size 432x288 with 1 Axes>"
      ]
     },
     "metadata": {
      "needs_background": "light"
     },
     "output_type": "display_data"
    },
    {
     "data": {
      "image/png": "[encoded data removed]",
      "text/plain": [
       "<Figure size 432x288 with 1 Axes>"
      ]
     },
     "metadata": {
      "needs_background": "light"
     },
     "output_type": "display_data"
    }
   ],
   "source": [
    "# plot the salary vs the values of each column\n",
    "i = 1\n",
    "for col in train_df.columns:\n",
    "    mean_plot(train_df, col)\n",
    "    i+= 1\n",
    "    plt.show()"
   ]
  },
  {
   "cell_type": "code",
   "execution_count": 19,
   "metadata": {},
   "outputs": [
    {
     "name": "stdout",
     "output_type": "stream",
     "text": [
      "jobType : ['CFO' 'CEO' 'VICE_PRESIDENT' 'MANAGER' 'JUNIOR' 'JANITOR' 'CTO' 'SENIOR']\n",
      "degree : ['MASTERS' 'HIGH_SCHOOL' 'DOCTORAL' 'BACHELORS' 'NONE']\n",
      "major : ['MATH' 'NONE' 'PHYSICS' 'CHEMISTRY' 'COMPSCI' 'BIOLOGY' 'LITERATURE'\n",
      " 'BUSINESS' 'ENGINEERING']\n",
      "industry : ['HEALTH' 'WEB' 'AUTO' 'FINANCE' 'EDUCATION' 'OIL' 'SERVICE']\n"
     ]
    }
   ],
   "source": [
    "categoricals = train_features.columns[1:5]\n",
    "for item in categoricals:\n",
    "    print(item, ':',  train_features[item].unique())"
   ]
  },
  {
   "cell_type": "code",
   "execution_count": 20,
   "metadata": {},
   "outputs": [],
   "source": [
    "def avg_dict(df, col, result):\n",
    "    #creates a dictionary of the average salary for each category in a categorical column\n",
    "    avg_df = cat_avg(df, col, result)\n",
    "    avg_dictionary = dict(zip(avg_df['category'],avg_df['mean']))\n",
    "    return avg_dictionary"
   ]
  },
  {
   "cell_type": "code",
   "execution_count": 21,
   "metadata": {},
   "outputs": [],
   "source": [
    "def avg_list(df,col, result):\n",
    "    #takes in a categorical column, and returns a list with each category replaced by its average salary\n",
    "    avg_dictionary = avg_dict(df, col, result)\n",
    "    avg_list = []\n",
    "    for key in df[col]:\n",
    "        avg_list.append(avg_dictionary[key])\n",
    "    return avg_list"
   ]
  },
  {
   "cell_type": "code",
   "execution_count": 22,
   "metadata": {},
   "outputs": [],
   "source": [
    "#create a new collumn for each categorical variable, replacing the categories with average value for that category. \n",
    "#This will be used for to calculate create coorrelation heatmap\n",
    "for col in categorical_cols:\n",
    "    train_df[(col + '_avg')] = avg_list(train_df,col, \"salary\")"
   ]
  },
  {
   "cell_type": "code",
   "execution_count": 23,
   "metadata": {},
   "outputs": [
    {
     "data": {
      "image/png": "[encoded data removed]",
      "text/plain": [
       "<Figure size 864x720 with 2 Axes>"
      ]
     },
     "metadata": {
      "needs_background": "light"
     },
     "output_type": "display_data"
    }
   ],
   "source": [
    "# Create correlation heatmap\n",
    "fig = plt.figure(figsize=(12, 10))\n",
    "features = ['companyId_avg', 'jobType_avg', 'degree_avg', 'major_avg', 'industry_avg', 'yearsExperience', 'milesFromMetropolis']\n",
    "sns.heatmap(train_df[features + ['salary']].corr(), cmap='Blues', annot=True)\n",
    "plt.xticks(rotation=45)\n",
    "plt.show()"
   ]
  },
  {
   "cell_type": "markdown",
   "metadata": {},
   "source": [
    "Company ID has no correlation to salary, which is expected from the plots above, so company ID won't be used to predict salary.  This is good, in that models created from this data could be used for predicting salary from other companies.\n",
    "\n",
    "Major and Degree have a strong  correlation, looking at the plots above, it appears to be entirely caused by \"none\" major being used for everyone who doesn't have a college degree.  There doesn't seem to be any correlation with salary and major aside from what is already captured in degree level, so we won't use major to make predictions.\n",
    "\n",
    "All of the other feature variables have vary little correlation with each other, which means each one contains fully independent information.\n",
    "\n",
    "Miles from Metropolis has a negative correlation with salary, this makes sense since jobs out in the country pay less than jobs in the city.\n",
    "\n"
   ]
  },
  {
   "cell_type": "markdown",
   "metadata": {},
   "source": [
    "### ---- 5 Establish a baseline ----"
   ]
  },
  {
   "cell_type": "markdown",
   "metadata": {},
   "source": [
    "In a business setting one would often have a baseline, as machine learning often involves improving some existing process.  Any changes made from the baseline need to be justified by having better performance  Here I don't have a baseline, so I will create a very basic model to predict salary.  Since job type has the highest correlation with salary, this basic model just predicts the average salary for each job type."
   ]
  },
  {
   "cell_type": "code",
   "execution_count": 24,
   "metadata": {},
   "outputs": [],
   "source": [
    "#Making 5 fold training and testing sets to train and test this model.\n",
    "from sklearn.model_selection import KFold \n",
    "kf = KFold(n_splits=5) \n",
    "kf_train = { 0 : \"kf_train_0\", 1 : \"kf_train_1\", 2 : \"kf_train_2\", 3 : \"kf_train_3\", 4 : \"kf_train_4\"}\n",
    "kf_test = { 0 : \"kf_test_0\", 1 : \"kf_test_1\", 2 : \"kf_test_2\", 3 : \"kf_test_3\", 4 : \"kf_test_4\"}\n",
    "i=0\n",
    "for train_index, test_index in kf.split(train_df['jobType']):\n",
    "    jobtype =list(train_df['jobType'][train_index])\n",
    "    salary = list(train_df['salary'][train_index])\n",
    "    kf_train[i] = pd.DataFrame(data = list(zip(jobtype, salary)), columns = ['jobType', 'salary'])\n",
    "    \n",
    "    jobtype =list(train_df['jobType'][test_index])\n",
    "    salary = list(train_df['salary'][test_index])\n",
    "    kf_test[i] = pd.DataFrame(data = list(zip(jobtype, salary)), columns = ['jobType', 'salary'])\n",
    "    i +=1\n",
    "    \n",
    "\n",
    "    "
   ]
  },
  {
   "cell_type": "code",
   "execution_count": 25,
   "metadata": {
    "scrolled": true
   },
   "outputs": [],
   "source": [
    "#Creating predictions from my model\n",
    "jobType_train = list(np.zeros(5))\n",
    "for i in range(5):\n",
    "    \n",
    "    jobType_train[i] = avg_dict(kf_train[i], 'jobType', 'salary')\n",
    "    #kf_test[i]['predict'] = jobType_train[i][kf_test[i]['salary']]\n",
    "    \n",
    "    predict_list = []\n",
    "    for j in range(len(kf_test[i]['jobType'])):\n",
    "        predict_list.append(jobType_train[i][kf_test[i]['jobType'][j]])\n",
    "    kf_test[i]['predict'] = predict_list\n",
    "    \n",
    "   \n"
   ]
  },
  {
   "cell_type": "code",
   "execution_count": 26,
   "metadata": {},
   "outputs": [],
   "source": [
    "#Calculating RMSE scores for my model.  RMSE/MSE are the apporpiate metric for regression models.  \n",
    "#I prefer RMSE because it has the same units as the prediction in this case dollars, and so can be compared to the predictoin itself\n",
    "from sklearn.metrics import mean_squared_error\n",
    "from math import sqrt\n",
    "\n",
    "rmse_scores = [sqrt(mean_squared_error(kf_test[i]['salary'],kf_test[i]['predict'])) for i in range(5)]"
   ]
  },
  {
   "cell_type": "code",
   "execution_count": 27,
   "metadata": {
    "scrolled": true
   },
   "outputs": [
    {
     "name": "stdout",
     "output_type": "stream",
     "text": [
      "[31.099801377339542, 31.06942516048584, 31.137181456230316, 30.955615759449064, 30.973302321251115]\n",
      "31.047065214951175\n"
     ]
    }
   ],
   "source": [
    "print(rmse_scores)\n",
    "print(np.mean(rmse_scores))"
   ]
  },
  {
   "cell_type": "markdown",
   "metadata": {},
   "source": []
  },
  {
   "cell_type": "markdown",
   "metadata": {},
   "source": [
    "### ---- 6 Hypothesize solution ----"
   ]
  },
  {
   "cell_type": "markdown",
   "metadata": {},
   "source": [
    "I will try to model the data using Random Forest and Gradient Boosting.  for both of these I will use one hot encoding for industry, and ordinal encoding for job type and degree level.  I will also try target mean encoding to encode the average salary for each combination or categorical features."
   ]
  },
  {
   "cell_type": "markdown",
   "metadata": {},
   "source": [
    "## Part 3 - DEVELOP"
   ]
  },
  {
   "cell_type": "markdown",
   "metadata": {},
   "source": [
    "### ---- 7 Engineer features  ----"
   ]
  },
  {
   "cell_type": "code",
   "execution_count": 29,
   "metadata": {},
   "outputs": [
    {
     "name": "stdout",
     "output_type": "stream",
     "text": [
      "['jobType', 'degree', 'industry']\n"
     ]
    }
   ],
   "source": [
    "features = train_df[['jobType', 'degree', 'industry', 'yearsExperience', 'milesFromMetropolis' ]]\n",
    "salary = train_df['salary']\n",
    "cats = list(features.select_dtypes(include='object').columns)\n",
    "print(cats)"
   ]
  },
  {
   "cell_type": "code",
   "execution_count": 30,
   "metadata": {},
   "outputs": [],
   "source": [
    "#First we will use one-hot encoding for industry column, as this doesn't have a natural order to it\n",
    "features['industry2'] = features['industry'].copy()\n",
    "features = pd.get_dummies(features, columns=['industry2'], prefix = ['industry'])\n",
    "\n"
   ]
  },
  {
   "cell_type": "code",
   "execution_count": 31,
   "metadata": {},
   "outputs": [],
   "source": [
    "#Next we will use ordinal mapping to for jobtype and degree, as they both have an order\n",
    "ordinal_map = {'jobType': {'CFO':5, 'CEO' :6, 'VICE_PRESIDENT':4, 'MANAGER': 3, 'JUNIOR' :1, 'JANITOR': 0, 'CTO' : 5, 'SENIOR' : 2}, 'degree':{'MASTERS' :3, 'HIGH_SCHOOL':1, 'DOCTORAL' :4, 'BACHELORS' :2, 'NONE' :0}}\n",
    "features.replace(ordinal_map, inplace = True)\n",
    "features2 = features.copy()\n",
    "features=features.drop(columns =['industry'])\n"
   ]
  },
  {
   "cell_type": "code",
   "execution_count": 32,
   "metadata": {},
   "outputs": [],
   "source": [
    "#Then we will create a transformer to encode the average salary for each combination of categorical features, and use it to create a colum\n",
    "#that includes this for each job.\n",
    "class GroupAverage(TransformerMixin,BaseEstimator):\n",
    "\n",
    "    def __init__(self, categories):\n",
    "        self.categories = categories\n",
    "\n",
    "    def fit(self, X, y):\n",
    "        self.group_averages = dict(pd.concat([X,y], axis = 1).groupby(self.categories)[y.name].mean())\n",
    "        return self\n",
    "\n",
    "    def transform(self, X, y='none'):\n",
    "        X['group_avg'] = pd.DataFrame(X.apply(lambda x: self.group_averages[tuple([x[item] for item in list(self.categories)])], axis = 1))\n",
    "        X=X.drop(columns = ['industry'])\n",
    "        return X"
   ]
  },
  {
   "cell_type": "markdown",
   "metadata": {},
   "source": [
    "### ---- 8 Create models ----"
   ]
  },
  {
   "cell_type": "code",
   "execution_count": null,
   "metadata": {},
   "outputs": [],
   "source": [
    "#create and tune the models"
   ]
  },
  {
   "cell_type": "code",
   "execution_count": null,
   "metadata": {},
   "outputs": [],
   "source": [
    "#Tune Random forest, using a small number of estimators, to speed up run time\n",
    "rf_lite = RandomForestRegressor(n_estimators=25)\n",
    "rf_grid = { 'max_depth': [20, 30, 40],\n",
    " 'max_features': [3,5,'auto'],\n",
    " 'min_samples_leaf': [1, 10, 20],\n",
    " 'min_samples_split': [2, 10, 20]}\n",
    "rf_search=GridSearchCV(estimator = rf_lite, param_grid = rf_grid, scoring='neg_mean_squared_error',n_jobs=-1, cv=2)\n",
    "rf_search.fit(features,salary)"
   ]
  },
  {
   "cell_type": "code",
   "execution_count": null,
   "metadata": {},
   "outputs": [],
   "source": [
    "print(rf_search.best_params_ )\n",
    "print(rf_search.best_score_ )\n"
   ]
  },
  {
   "cell_type": "code",
   "execution_count": null,
   "metadata": {},
   "outputs": [],
   "source": [
    "#Tune gradient boosting, using a small number of estimators, to speed up run time\n",
    "gb_lite = GradientBoostingRegressor(n_estimators=25)\n",
    "gb_grid={ 'max_depth': [5,6,7],\n",
    " 'min_samples_leaf': [1,10, 20],\n",
    " 'min_samples_split': [2, 10, 20],\n",
    "  'max_features' : [3,5, 'auto']}\n",
    "gb_search=GridSearchCV(estimator = gb_lite, param_grid = gb_grid, scoring='neg_mean_squared_error',n_jobs=-1, cv=2)\n",
    "gb_search.fit(features,salary)\n"
   ]
  },
  {
   "cell_type": "code",
   "execution_count": null,
   "metadata": {},
   "outputs": [],
   "source": [
    "print(gb_search.best_params_ )\n",
    "print(gb_search.best_score_ )\n",
    "\n"
   ]
  },
  {
   "cell_type": "code",
   "execution_count": null,
   "metadata": {},
   "outputs": [],
   "source": [
    "#finer tuning\n",
    "gb_lite2 = GradientBoostingRegressor(min_samples_leaf = 1, min_samples_split = 2, n_estimators=25)\n",
    "gb_grid2={ 'max_depth': [8,10,15],\n",
    "'max_features' : [6,10, 'auto']}\n",
    "gb_search2=GridSearchCV(estimator = gb_lite2, param_grid = gb_grid2, scoring='neg_mean_squared_error',n_jobs=-1, cv=2)\n",
    "gb_search2.fit(features,salary)"
   ]
  },
  {
   "cell_type": "code",
   "execution_count": null,
   "metadata": {},
   "outputs": [],
   "source": [
    "print(gb_search2.best_params_ )\n",
    "print(gb_search2.best_score_ )"
   ]
  },
  {
   "cell_type": "code",
   "execution_count": null,
   "metadata": {},
   "outputs": [],
   "source": [
    "#one more round of tuning\n",
    "gb_lite3 = GradientBoostingRegressor(min_samples_leaf = 1, min_samples_split = 2, n_estimators=25, max_features = 'auto')\n",
    "gb_grid3={ 'max_depth': [9,11,12,13,14]}\n",
    "gb_search3=GridSearchCV(estimator = gb_lite3, param_grid = gb_grid3, scoring='neg_mean_squared_error',n_jobs=-1, cv=2)\n",
    "gb_search3.fit(features,salary)"
   ]
  },
  {
   "cell_type": "code",
   "execution_count": null,
   "metadata": {},
   "outputs": [],
   "source": [
    "print(gb_search3.best_params_ )\n",
    "print(gb_search3.best_score_ )"
   ]
  },
  {
   "cell_type": "markdown",
   "metadata": {},
   "source": [
    "### ---- 9 Test models ----"
   ]
  },
  {
   "cell_type": "code",
   "execution_count": 50,
   "metadata": {},
   "outputs": [],
   "source": [
    "#do 5-fold cross validation on models and measure MSE and RMSE"
   ]
  },
  {
   "cell_type": "code",
   "execution_count": 51,
   "metadata": {},
   "outputs": [],
   "source": [
    "# Use best parameters found above to test Random Forest\n",
    "rf_tuned = RandomForestRegressor(n_estimators=80, max_depth= 20, max_features = 3,min_samples_leaf=20,min_samples_split= 10 )\n",
    "rf_score = cross_val_score(estimator=rf_tuned, X=features, y=salary, cv=5, scoring='neg_mean_squared_error', n_jobs = -1)"
   ]
  },
  {
   "cell_type": "code",
   "execution_count": 53,
   "metadata": {},
   "outputs": [
    {
     "name": "stdout",
     "output_type": "stream",
     "text": [
      "[-385.43876971 -385.08880496 -386.29891184 -382.64657842 -382.84288754]\n",
      "-384.4631904944053\n",
      "19.60773292592505\n"
     ]
    }
   ],
   "source": [
    "print(rf_score)\n",
    "print(rf_score.mean())\n",
    "print(sqrt(-1*rf_score.mean()))"
   ]
  },
  {
   "cell_type": "code",
   "execution_count": 54,
   "metadata": {},
   "outputs": [],
   "source": [
    "# Use best parameters found above to test gradient boosting\n",
    "gb_tuned = GradientBoostingRegressor(n_estimators=80, max_depth = 11, min_samples_leaf= 1, min_samples_split= 2, max_features = 'auto')\n",
    "gb_score = cross_val_score(estimator=gb_tuned, X=features, y=salary, cv=5, scoring='neg_mean_squared_error', n_jobs = -1)"
   ]
  },
  {
   "cell_type": "code",
   "execution_count": 66,
   "metadata": {},
   "outputs": [
    {
     "name": "stdout",
     "output_type": "stream",
     "text": [
      "[-385.97589503 -385.55473517 -386.87212579 -383.20106785 -383.71322831]\n",
      "-385.06341042982086\n",
      "19.623032651193874\n"
     ]
    }
   ],
   "source": [
    "print(gb_score)\n",
    "print(gb_score.mean())\n",
    "print(sqrt(-1*gb_score.mean()))"
   ]
  },
  {
   "cell_type": "code",
   "execution_count": 58,
   "metadata": {},
   "outputs": [],
   "source": [
    "# Use best parameters found above to test Random Forest, with added target means column\n",
    "\n",
    "ga_rf = Pipeline([('target', GroupAverage(categories = cats)),\n",
    "                          ('rf', RandomForestRegressor(n_estimators=80, max_depth= 20, max_features = 3,min_samples_leaf=20,min_samples_split= 10 ))])\n",
    "ga_rf_score = cross_val_score(estimator=ga_rf, X=features2.copy(), y=salary, cv=5, scoring='neg_mean_squared_error', n_jobs = -1)\n"
   ]
  },
  {
   "cell_type": "code",
   "execution_count": 59,
   "metadata": {},
   "outputs": [
    {
     "name": "stdout",
     "output_type": "stream",
     "text": [
      "[-385.44120799 -384.94033384 -386.19245729 -382.4365919  -382.78683827]\n",
      "-384.3594858587364\n",
      "19.605088264497468\n"
     ]
    }
   ],
   "source": [
    "print(ga_rf_score)\n",
    "print(ga_rf_score.mean())\n",
    "print(sqrt(-1*ga_rf_score.mean()))"
   ]
  },
  {
   "cell_type": "code",
   "execution_count": 64,
   "metadata": {},
   "outputs": [],
   "source": [
    "# Use best parameters found above to test gradient boosting, with added target means column\n",
    "ga_gb = Pipeline([('target', GroupAverage(categories = cats)),\n",
    "                          ('gb', GradientBoostingRegressor(n_estimators=80, max_depth = 11, min_samples_leaf= 1, min_samples_split= 2, max_features = 'auto'))])\n",
    "ga_gb_score = cross_val_score(estimator=ga_gb, X=features2, y=salary, cv=5, scoring='neg_mean_squared_error', n_jobs = -1)\n"
   ]
  },
  {
   "cell_type": "code",
   "execution_count": 65,
   "metadata": {},
   "outputs": [
    {
     "name": "stdout",
     "output_type": "stream",
     "text": [
      "[-385.96639931 -385.0891292  -386.65694506 -382.68075072 -383.73973804]\n",
      "-384.82659246430677\n",
      "19.616997539488725\n"
     ]
    }
   ],
   "source": [
    "print(ga_gb_score)\n",
    "print(ga_gb_score.mean())\n",
    "print(sqrt(-1*ga_gb_score.mean()))"
   ]
  },
  {
   "cell_type": "markdown",
   "metadata": {},
   "source": [
    "### ---- 10 Select best model  ----"
   ]
  },
  {
   "cell_type": "markdown",
   "metadata": {},
   "source": [
    "All of the models tested above have near identical RMSE's, so I will use random forest, without target mean, as this runs the fastest"
   ]
  },
  {
   "cell_type": "markdown",
   "metadata": {},
   "source": [
    "## Part 4 - DEPLOY"
   ]
  },
  {
   "cell_type": "markdown",
   "metadata": {},
   "source": [
    "### ---- 11 Automate pipeline ----"
   ]
  },
  {
   "cell_type": "markdown",
   "metadata": {},
   "source": [
    "Here I will create a single script which loads the data, cleans it and creates features; and then trains the model on the training data, and makes predictions from the test data"
   ]
  },
  {
   "cell_type": "code",
   "execution_count": 78,
   "metadata": {},
   "outputs": [],
   "source": [
    "#load the data\n",
    "training_features = pd.read_csv(\"data/train_features.csv\", index_col = 'jobId')\n",
    "training_salaries = pd.read_csv(\"data/train_salaries.csv\", index_col = 'jobId')\n",
    "test_features = pd.read_csv(\"data/test_features.csv\", index_col = 'jobId')\n",
    "\n",
    "#Merge train features and salaries\n",
    "training_df = pd.merge(training_features, training_salaries, on='jobId')\n",
    "#Remove zero salary entries from train data\n",
    "training_df.drop(training_df.index[training_df.salary < lower_limit], inplace = True)\n",
    "#Encode categories on training data\n",
    "tr_features = training_df[['jobType', 'degree', 'industry', 'yearsExperience', 'milesFromMetropolis' ]]\n",
    "tr_salary = training_df['salary']\n",
    "tr_features = pd.get_dummies(tr_features, columns=['industry'], prefix = ['industry'])\n",
    "ordinal_map = {'jobType': {'CFO':5, 'CEO' :6, 'VICE_PRESIDENT':4, 'MANAGER': 3, 'JUNIOR' :1, 'JANITOR': 0, 'CTO' : 5, 'SENIOR' : 2}, 'degree':{'MASTERS' :3, 'HIGH_SCHOOL':1, 'DOCTORAL' :4, 'BACHELORS' :2, 'NONE' :0}}\n",
    "tr_features.replace(ordinal_map, inplace = True)\n",
    "\n",
    "\n",
    "#encode categories on test data\n",
    "test_features = test_features[['jobType', 'degree', 'industry', 'yearsExperience', 'milesFromMetropolis' ]]\n",
    "test_features = pd.get_dummies(test_features, columns=['industry'], prefix = ['industry'])\n",
    "test_features.replace(ordinal_map, inplace = True)\n",
    "\n",
    "\n",
    "final_model =RandomForestRegressor(n_estimators=80, max_depth= 20, max_features = 3,min_samples_leaf=20,min_samples_split= 10 )\n",
    "\n",
    "final_model.fit(tr_features, tr_salary)\n",
    "\n",
    "\n",
    "dump(final_model, 'SalaryPredictionModel.joblib') \n",
    "\n",
    "test_features['prediction'] = final_model.predict(test_features)\n",
    "\n",
    "                                \n",
    "                                \n"
   ]
  },
  {
   "cell_type": "markdown",
   "metadata": {},
   "source": [
    "### ---- 12 Deploy solution ----"
   ]
  },
  {
   "cell_type": "markdown",
   "metadata": {},
   "source": [
    "Take a look at the prediction and save it to disk.  Then take a look at the feature importances for the model."
   ]
  },
  {
   "cell_type": "code",
   "execution_count": 79,
   "metadata": {},
   "outputs": [
    {
     "data": {
      "text/html": [
       "<div>\n",
       "<style scoped>\n",
       "    .dataframe tbody tr th:only-of-type {\n",
       "        vertical-align: middle;\n",
       "    }\n",
       "\n",
       "    .dataframe tbody tr th {\n",
       "        vertical-align: top;\n",
       "    }\n",
       "\n",
       "    .dataframe thead th {\n",
       "        text-align: right;\n",
       "    }\n",
       "</style>\n",
       "<table border=\"1\" class=\"dataframe\">\n",
       "  <thead>\n",
       "    <tr style=\"text-align: right;\">\n",
       "      <th></th>\n",
       "      <th>jobType</th>\n",
       "      <th>degree</th>\n",
       "      <th>yearsExperience</th>\n",
       "      <th>milesFromMetropolis</th>\n",
       "      <th>industry_AUTO</th>\n",
       "      <th>industry_EDUCATION</th>\n",
       "      <th>industry_FINANCE</th>\n",
       "      <th>industry_HEALTH</th>\n",
       "      <th>industry_OIL</th>\n",
       "      <th>industry_SERVICE</th>\n",
       "      <th>industry_WEB</th>\n",
       "      <th>prediction</th>\n",
       "    </tr>\n",
       "    <tr>\n",
       "      <th>jobId</th>\n",
       "      <th></th>\n",
       "      <th></th>\n",
       "      <th></th>\n",
       "      <th></th>\n",
       "      <th></th>\n",
       "      <th></th>\n",
       "      <th></th>\n",
       "      <th></th>\n",
       "      <th></th>\n",
       "      <th></th>\n",
       "      <th></th>\n",
       "      <th></th>\n",
       "    </tr>\n",
       "  </thead>\n",
       "  <tbody>\n",
       "    <tr>\n",
       "      <th>JOB1362685407687</th>\n",
       "      <td>3</td>\n",
       "      <td>1</td>\n",
       "      <td>22</td>\n",
       "      <td>73</td>\n",
       "      <td>0</td>\n",
       "      <td>0</td>\n",
       "      <td>0</td>\n",
       "      <td>1</td>\n",
       "      <td>0</td>\n",
       "      <td>0</td>\n",
       "      <td>0</td>\n",
       "      <td>111.954265</td>\n",
       "    </tr>\n",
       "    <tr>\n",
       "      <th>JOB1362685407688</th>\n",
       "      <td>1</td>\n",
       "      <td>0</td>\n",
       "      <td>20</td>\n",
       "      <td>47</td>\n",
       "      <td>1</td>\n",
       "      <td>0</td>\n",
       "      <td>0</td>\n",
       "      <td>0</td>\n",
       "      <td>0</td>\n",
       "      <td>0</td>\n",
       "      <td>0</td>\n",
       "      <td>93.519279</td>\n",
       "    </tr>\n",
       "    <tr>\n",
       "      <th>JOB1362685407689</th>\n",
       "      <td>5</td>\n",
       "      <td>3</td>\n",
       "      <td>17</td>\n",
       "      <td>9</td>\n",
       "      <td>0</td>\n",
       "      <td>0</td>\n",
       "      <td>0</td>\n",
       "      <td>1</td>\n",
       "      <td>0</td>\n",
       "      <td>0</td>\n",
       "      <td>0</td>\n",
       "      <td>175.056130</td>\n",
       "    </tr>\n",
       "    <tr>\n",
       "      <th>JOB1362685407690</th>\n",
       "      <td>3</td>\n",
       "      <td>1</td>\n",
       "      <td>14</td>\n",
       "      <td>96</td>\n",
       "      <td>0</td>\n",
       "      <td>0</td>\n",
       "      <td>0</td>\n",
       "      <td>0</td>\n",
       "      <td>1</td>\n",
       "      <td>0</td>\n",
       "      <td>0</td>\n",
       "      <td>104.410341</td>\n",
       "    </tr>\n",
       "    <tr>\n",
       "      <th>JOB1362685407691</th>\n",
       "      <td>1</td>\n",
       "      <td>4</td>\n",
       "      <td>10</td>\n",
       "      <td>44</td>\n",
       "      <td>0</td>\n",
       "      <td>0</td>\n",
       "      <td>0</td>\n",
       "      <td>0</td>\n",
       "      <td>1</td>\n",
       "      <td>0</td>\n",
       "      <td>0</td>\n",
       "      <td>118.129128</td>\n",
       "    </tr>\n",
       "  </tbody>\n",
       "</table>\n",
       "</div>"
      ],
      "text/plain": [
       "                  jobType  degree  yearsExperience  milesFromMetropolis  \\\n",
       "jobId                                                                     \n",
       "JOB1362685407687        3       1               22                   73   \n",
       "JOB1362685407688        1       0               20                   47   \n",
       "JOB1362685407689        5       3               17                    9   \n",
       "JOB1362685407690        3       1               14                   96   \n",
       "JOB1362685407691        1       4               10                   44   \n",
       "\n",
       "                  industry_AUTO  industry_EDUCATION  industry_FINANCE  \\\n",
       "jobId                                                                   \n",
       "JOB1362685407687              0                   0                 0   \n",
       "JOB1362685407688              1                   0                 0   \n",
       "JOB1362685407689              0                   0                 0   \n",
       "JOB1362685407690              0                   0                 0   \n",
       "JOB1362685407691              0                   0                 0   \n",
       "\n",
       "                  industry_HEALTH  industry_OIL  industry_SERVICE  \\\n",
       "jobId                                                               \n",
       "JOB1362685407687                1             0                 0   \n",
       "JOB1362685407688                0             0                 0   \n",
       "JOB1362685407689                1             0                 0   \n",
       "JOB1362685407690                0             1                 0   \n",
       "JOB1362685407691                0             1                 0   \n",
       "\n",
       "                  industry_WEB  prediction  \n",
       "jobId                                       \n",
       "JOB1362685407687             0  111.954265  \n",
       "JOB1362685407688             0   93.519279  \n",
       "JOB1362685407689             0  175.056130  \n",
       "JOB1362685407690             0  104.410341  \n",
       "JOB1362685407691             0  118.129128  "
      ]
     },
     "execution_count": 79,
     "metadata": {},
     "output_type": "execute_result"
    }
   ],
   "source": [
    "test_features.head()"
   ]
  },
  {
   "cell_type": "code",
   "execution_count": 80,
   "metadata": {},
   "outputs": [],
   "source": [
    "test_features.to_csv(r'data/prediction.csv')"
   ]
  },
  {
   "cell_type": "code",
   "execution_count": 82,
   "metadata": {},
   "outputs": [],
   "source": [
    "importances = final_model.feature_importances_"
   ]
  },
  {
   "cell_type": "code",
   "execution_count": 83,
   "metadata": {},
   "outputs": [
    {
     "data": {
      "text/html": [
       "<div>\n",
       "<style scoped>\n",
       "    .dataframe tbody tr th:only-of-type {\n",
       "        vertical-align: middle;\n",
       "    }\n",
       "\n",
       "    .dataframe tbody tr th {\n",
       "        vertical-align: top;\n",
       "    }\n",
       "\n",
       "    .dataframe thead th {\n",
       "        text-align: right;\n",
       "    }\n",
       "</style>\n",
       "<table border=\"1\" class=\"dataframe\">\n",
       "  <thead>\n",
       "    <tr style=\"text-align: right;\">\n",
       "      <th></th>\n",
       "      <th>feature</th>\n",
       "      <th>importance</th>\n",
       "    </tr>\n",
       "  </thead>\n",
       "  <tbody>\n",
       "    <tr>\n",
       "      <th>0</th>\n",
       "      <td>jobType</td>\n",
       "      <td>0.379802</td>\n",
       "    </tr>\n",
       "    <tr>\n",
       "      <th>1</th>\n",
       "      <td>degree</td>\n",
       "      <td>0.169493</td>\n",
       "    </tr>\n",
       "    <tr>\n",
       "      <th>2</th>\n",
       "      <td>yearsExperience</td>\n",
       "      <td>0.196352</td>\n",
       "    </tr>\n",
       "    <tr>\n",
       "      <th>3</th>\n",
       "      <td>milesFromMetropolis</td>\n",
       "      <td>0.139144</td>\n",
       "    </tr>\n",
       "    <tr>\n",
       "      <th>4</th>\n",
       "      <td>industry_AUTO</td>\n",
       "      <td>0.008123</td>\n",
       "    </tr>\n",
       "    <tr>\n",
       "      <th>5</th>\n",
       "      <td>industry_EDUCATION</td>\n",
       "      <td>0.031695</td>\n",
       "    </tr>\n",
       "    <tr>\n",
       "      <th>6</th>\n",
       "      <td>industry_FINANCE</td>\n",
       "      <td>0.023644</td>\n",
       "    </tr>\n",
       "    <tr>\n",
       "      <th>7</th>\n",
       "      <td>industry_HEALTH</td>\n",
       "      <td>0.004513</td>\n",
       "    </tr>\n",
       "    <tr>\n",
       "      <th>8</th>\n",
       "      <td>industry_OIL</td>\n",
       "      <td>0.023408</td>\n",
       "    </tr>\n",
       "    <tr>\n",
       "      <th>9</th>\n",
       "      <td>industry_SERVICE</td>\n",
       "      <td>0.016848</td>\n",
       "    </tr>\n",
       "    <tr>\n",
       "      <th>10</th>\n",
       "      <td>industry_WEB</td>\n",
       "      <td>0.006978</td>\n",
       "    </tr>\n",
       "  </tbody>\n",
       "</table>\n",
       "</div>"
      ],
      "text/plain": [
       "                feature  importance\n",
       "0               jobType    0.379802\n",
       "1                degree    0.169493\n",
       "2       yearsExperience    0.196352\n",
       "3   milesFromMetropolis    0.139144\n",
       "4         industry_AUTO    0.008123\n",
       "5    industry_EDUCATION    0.031695\n",
       "6      industry_FINANCE    0.023644\n",
       "7       industry_HEALTH    0.004513\n",
       "8          industry_OIL    0.023408\n",
       "9      industry_SERVICE    0.016848\n",
       "10         industry_WEB    0.006978"
      ]
     },
     "execution_count": 83,
     "metadata": {},
     "output_type": "execute_result"
    }
   ],
   "source": [
    "feature_importance = pd.DataFrame()\n",
    "feature_importance['feature']= tr_features.columns\n",
    "feature_importance['importance'] = importances\n",
    "feature_importance\n"
   ]
  },
  {
   "cell_type": "code",
   "execution_count": 86,
   "metadata": {},
   "outputs": [
    {
     "data": {
      "image/png": "[encoded data removed]",
      "text/plain": [
       "<Figure size 864x720 with 1 Axes>"
      ]
     },
     "metadata": {},
     "output_type": "display_data"
    }
   ],
   "source": [
    "plt.style.use('ggplot')\n",
    "\n",
    "fig = plt.figure(figsize=(12, 10))\n",
    "plt.bar(feature_importance['feature'], feature_importance['importance'], color='green')\n",
    "plt.xlabel(\"Feature\")\n",
    "plt.ylabel(\"Importance to Model\")\n",
    "plt.title(\"Feature importances to model\")\n",
    "plt.xticks(rotation=45)\n",
    "\n",
    "plt.show()"
   ]
  }
 ],
 "metadata": {
  "kernelspec": {
   "display_name": "Python 3",
   "language": "python",
   "name": "python3"
  },
  "language_info": {
   "codemirror_mode": {
    "name": "ipython",
    "version": 3
   },
   "file_extension": ".py",
   "mimetype": "text/x-python",
   "name": "python",
   "nbconvert_exporter": "python",
   "pygments_lexer": "ipython3",
   "version": "3.6.6"
  },
  "toc": {
   "base_numbering": 1,
   "nav_menu": {},
   "number_sections": true,
   "sideBar": true,
   "skip_h1_title": false,
   "title_cell": "Table of Contents",
   "title_sidebar": "Contents",
   "toc_cell": false,
   "toc_position": {},
   "toc_section_display": true,
   "toc_window_display": false
  },
  "varInspector": {
   "cols": {
    "lenName": 16,
    "lenType": 16,
    "lenVar": 40
   },
   "kernels_config": {
    "python": {
     "delete_cmd_postfix": "",
     "delete_cmd_prefix": "del ",
     "library": "var_list.py",
     "varRefreshCmd": "print(var_dic_list())"
    },
    "r": {
     "delete_cmd_postfix": ") ",
     "delete_cmd_prefix": "rm(",
     "library": "var_list.r",
     "varRefreshCmd": "cat(var_dic_list()) "
    }
   },
   "position": {
    "height": "356.222px",
    "left": "1338.67px",
    "right": "20px",
    "top": "121px",
    "width": "354.208px"
   },
   "types_to_exclude": [
    "module",
    "function",
    "builtin_function_or_method",
    "instance",
    "_Feature"
   ],
   "window_display": false
  }
 },
 "nbformat": 4,
 "nbformat_minor": 2
}
